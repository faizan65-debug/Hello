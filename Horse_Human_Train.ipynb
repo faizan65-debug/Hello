{
  "nbformat": 4,
  "nbformat_minor": 0,
  "metadata": {
    "colab": {
      "provenance": [],
      "gpuType": "T4",
      "authorship_tag": "ABX9TyPkyB1jGaqs+w/hQe5Gy8Ag",
      "include_colab_link": true
    },
    "kernelspec": {
      "name": "python3",
      "display_name": "Python 3"
    },
    "language_info": {
      "name": "python"
    },
    "accelerator": "GPU",
    "widgets": {
      "application/vnd.jupyter.widget-state+json": {
        "2c81eaa056ff49868a41fb420176f96b": {
          "model_module": "@jupyter-widgets/controls",
          "model_name": "FileUploadModel",
          "model_module_version": "1.5.0",
          "state": {
            "_counter": 1,
            "_dom_classes": [],
            "_model_module": "@jupyter-widgets/controls",
            "_model_module_version": "1.5.0",
            "_model_name": "FileUploadModel",
            "_view_count": null,
            "_view_module": "@jupyter-widgets/controls",
            "_view_module_version": "1.5.0",
            "_view_name": "FileUploadView",
            "accept": "image/*",
            "button_style": "",
            "data": [
              null
            ],
            "description": "Upload",
            "description_tooltip": null,
            "disabled": false,
            "error": "",
            "icon": "upload",
            "layout": "IPY_MODEL_a66895b6161547c5b61128e2132d780d",
            "metadata": [
              {
                "name": "download (2).jpeg",
                "type": "image/jpeg",
                "size": 7220,
                "lastModified": 1757255799243
              }
            ],
            "multiple": true,
            "style": "IPY_MODEL_eca64f95945b41ce90d8b3eb3fc4d957"
          }
        },
        "a66895b6161547c5b61128e2132d780d": {
          "model_module": "@jupyter-widgets/base",
          "model_name": "LayoutModel",
          "model_module_version": "1.2.0",
          "state": {
            "_model_module": "@jupyter-widgets/base",
            "_model_module_version": "1.2.0",
            "_model_name": "LayoutModel",
            "_view_count": null,
            "_view_module": "@jupyter-widgets/base",
            "_view_module_version": "1.2.0",
            "_view_name": "LayoutView",
            "align_content": null,
            "align_items": null,
            "align_self": null,
            "border": null,
            "bottom": null,
            "display": null,
            "flex": null,
            "flex_flow": null,
            "grid_area": null,
            "grid_auto_columns": null,
            "grid_auto_flow": null,
            "grid_auto_rows": null,
            "grid_column": null,
            "grid_gap": null,
            "grid_row": null,
            "grid_template_areas": null,
            "grid_template_columns": null,
            "grid_template_rows": null,
            "height": null,
            "justify_content": null,
            "justify_items": null,
            "left": null,
            "margin": null,
            "max_height": null,
            "max_width": null,
            "min_height": null,
            "min_width": null,
            "object_fit": null,
            "object_position": null,
            "order": null,
            "overflow": null,
            "overflow_x": null,
            "overflow_y": null,
            "padding": null,
            "right": null,
            "top": null,
            "visibility": null,
            "width": null
          }
        },
        "eca64f95945b41ce90d8b3eb3fc4d957": {
          "model_module": "@jupyter-widgets/controls",
          "model_name": "ButtonStyleModel",
          "model_module_version": "1.5.0",
          "state": {
            "_model_module": "@jupyter-widgets/controls",
            "_model_module_version": "1.5.0",
            "_model_name": "ButtonStyleModel",
            "_view_count": null,
            "_view_module": "@jupyter-widgets/base",
            "_view_module_version": "1.2.0",
            "_view_name": "StyleView",
            "button_color": null,
            "font_weight": ""
          }
        },
        "7a995f556a314cd7870a773391951ddc": {
          "model_module": "@jupyter-widgets/output",
          "model_name": "OutputModel",
          "model_module_version": "1.0.0",
          "state": {
            "_dom_classes": [],
            "_model_module": "@jupyter-widgets/output",
            "_model_module_version": "1.0.0",
            "_model_name": "OutputModel",
            "_view_count": null,
            "_view_module": "@jupyter-widgets/output",
            "_view_module_version": "1.0.0",
            "_view_name": "OutputView",
            "layout": "IPY_MODEL_f8eaca831bae47a9b2383f9f71f2cc66",
            "msg_id": "",
            "outputs": [
              {
                "output_type": "stream",
                "name": "stdout",
                "text": [
                  "download (2).jpeg → Human (0.964)\n"
                ]
              }
            ]
          }
        },
        "f8eaca831bae47a9b2383f9f71f2cc66": {
          "model_module": "@jupyter-widgets/base",
          "model_name": "LayoutModel",
          "model_module_version": "1.2.0",
          "state": {
            "_model_module": "@jupyter-widgets/base",
            "_model_module_version": "1.2.0",
            "_model_name": "LayoutModel",
            "_view_count": null,
            "_view_module": "@jupyter-widgets/base",
            "_view_module_version": "1.2.0",
            "_view_name": "LayoutView",
            "align_content": null,
            "align_items": null,
            "align_self": null,
            "border": null,
            "bottom": null,
            "display": null,
            "flex": null,
            "flex_flow": null,
            "grid_area": null,
            "grid_auto_columns": null,
            "grid_auto_flow": null,
            "grid_auto_rows": null,
            "grid_column": null,
            "grid_gap": null,
            "grid_row": null,
            "grid_template_areas": null,
            "grid_template_columns": null,
            "grid_template_rows": null,
            "height": null,
            "justify_content": null,
            "justify_items": null,
            "left": null,
            "margin": null,
            "max_height": null,
            "max_width": null,
            "min_height": null,
            "min_width": null,
            "object_fit": null,
            "object_position": null,
            "order": null,
            "overflow": null,
            "overflow_x": null,
            "overflow_y": null,
            "padding": null,
            "right": null,
            "top": null,
            "visibility": null,
            "width": null
          }
        },
        "379e0c4d6a3445429b68216442aa8f38": {
          "model_module": "@jupyter-widgets/controls",
          "model_name": "FileUploadModel",
          "model_module_version": "1.5.0",
          "state": {
            "_counter": 1,
            "_dom_classes": [],
            "_model_module": "@jupyter-widgets/controls",
            "_model_module_version": "1.5.0",
            "_model_name": "FileUploadModel",
            "_view_count": null,
            "_view_module": "@jupyter-widgets/controls",
            "_view_module_version": "1.5.0",
            "_view_name": "FileUploadView",
            "accept": "image/*",
            "button_style": "",
            "data": [
              null
            ],
            "description": "Upload",
            "description_tooltip": null,
            "disabled": false,
            "error": "",
            "icon": "upload",
            "layout": "IPY_MODEL_eb61f0c1a5084656b51dcd13d690b9d2",
            "metadata": [
              {
                "name": "download (2).jpeg",
                "type": "image/jpeg",
                "size": 7220,
                "lastModified": 1757255799243
              }
            ],
            "multiple": true,
            "style": "IPY_MODEL_eb62a3a551e045ba8e9bc45dfed5171a"
          }
        },
        "eb61f0c1a5084656b51dcd13d690b9d2": {
          "model_module": "@jupyter-widgets/base",
          "model_name": "LayoutModel",
          "model_module_version": "1.2.0",
          "state": {
            "_model_module": "@jupyter-widgets/base",
            "_model_module_version": "1.2.0",
            "_model_name": "LayoutModel",
            "_view_count": null,
            "_view_module": "@jupyter-widgets/base",
            "_view_module_version": "1.2.0",
            "_view_name": "LayoutView",
            "align_content": null,
            "align_items": null,
            "align_self": null,
            "border": null,
            "bottom": null,
            "display": null,
            "flex": null,
            "flex_flow": null,
            "grid_area": null,
            "grid_auto_columns": null,
            "grid_auto_flow": null,
            "grid_auto_rows": null,
            "grid_column": null,
            "grid_gap": null,
            "grid_row": null,
            "grid_template_areas": null,
            "grid_template_columns": null,
            "grid_template_rows": null,
            "height": null,
            "justify_content": null,
            "justify_items": null,
            "left": null,
            "margin": null,
            "max_height": null,
            "max_width": null,
            "min_height": null,
            "min_width": null,
            "object_fit": null,
            "object_position": null,
            "order": null,
            "overflow": null,
            "overflow_x": null,
            "overflow_y": null,
            "padding": null,
            "right": null,
            "top": null,
            "visibility": null,
            "width": null
          }
        },
        "eb62a3a551e045ba8e9bc45dfed5171a": {
          "model_module": "@jupyter-widgets/controls",
          "model_name": "ButtonStyleModel",
          "model_module_version": "1.5.0",
          "state": {
            "_model_module": "@jupyter-widgets/controls",
            "_model_module_version": "1.5.0",
            "_model_name": "ButtonStyleModel",
            "_view_count": null,
            "_view_module": "@jupyter-widgets/base",
            "_view_module_version": "1.2.0",
            "_view_name": "StyleView",
            "button_color": null,
            "font_weight": ""
          }
        },
        "09104895de4d405087d91b15a9f8e394": {
          "model_module": "@jupyter-widgets/output",
          "model_name": "OutputModel",
          "model_module_version": "1.0.0",
          "state": {
            "_dom_classes": [],
            "_model_module": "@jupyter-widgets/output",
            "_model_module_version": "1.0.0",
            "_model_name": "OutputModel",
            "_view_count": null,
            "_view_module": "@jupyter-widgets/output",
            "_view_module_version": "1.0.0",
            "_view_name": "OutputView",
            "layout": "IPY_MODEL_c9499a89014242559d4feddffe980af9",
            "msg_id": "",
            "outputs": [
              {
                "output_type": "display_data",
                "data": {
                  "text/plain": "<Figure size 640x480 with 1 Axes>",
                  "image/png": "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\n"
                },
                "metadata": {}
              }
            ]
          }
        },
        "c9499a89014242559d4feddffe980af9": {
          "model_module": "@jupyter-widgets/base",
          "model_name": "LayoutModel",
          "model_module_version": "1.2.0",
          "state": {
            "_model_module": "@jupyter-widgets/base",
            "_model_module_version": "1.2.0",
            "_model_name": "LayoutModel",
            "_view_count": null,
            "_view_module": "@jupyter-widgets/base",
            "_view_module_version": "1.2.0",
            "_view_name": "LayoutView",
            "align_content": null,
            "align_items": null,
            "align_self": null,
            "border": null,
            "bottom": null,
            "display": null,
            "flex": null,
            "flex_flow": null,
            "grid_area": null,
            "grid_auto_columns": null,
            "grid_auto_flow": null,
            "grid_auto_rows": null,
            "grid_column": null,
            "grid_gap": null,
            "grid_row": null,
            "grid_template_areas": null,
            "grid_template_columns": null,
            "grid_template_rows": null,
            "height": null,
            "justify_content": null,
            "justify_items": null,
            "left": null,
            "margin": null,
            "max_height": null,
            "max_width": null,
            "min_height": null,
            "min_width": null,
            "object_fit": null,
            "object_position": null,
            "order": null,
            "overflow": null,
            "overflow_x": null,
            "overflow_y": null,
            "padding": null,
            "right": null,
            "top": null,
            "visibility": null,
            "width": null
          }
        }
      }
    }
  },
  "cells": [
    {
      "cell_type": "markdown",
      "metadata": {
        "id": "view-in-github",
        "colab_type": "text"
      },
      "source": [
        "<a href=\"https://colab.research.google.com/github/faizan65-debug/Hello/blob/main/Horse_Human_Train.ipynb\" target=\"_parent\"><img src=\"https://colab.research.google.com/assets/colab-badge.svg\" alt=\"Open In Colab\"/></a>"
      ]
    },
    {
      "cell_type": "code",
      "execution_count": 12,
      "metadata": {
        "colab": {
          "base_uri": "https://localhost:8080/"
        },
        "id": "8JG22_Y9ZHzs",
        "outputId": "1a7f2868-f9d8-4cbf-80a6-c7f2698c851a"
      },
      "outputs": [
        {
          "output_type": "stream",
          "name": "stdout",
          "text": [
            "Python: 3.12.11 (main, Jun  4 2025, 08:56:18) [GCC 11.4.0]\n",
            "TensorFlow: 2.19.0\n",
            "GPU available: [PhysicalDevice(name='/physical_device:GPU:0', device_type='GPU')]\n"
          ]
        }
      ],
      "source": [
        "import tensorflow as tf\n",
        "import sys\n",
        "print(\"Python:\", sys.version)\n",
        "print(\"TensorFlow:\", tf.__version__)\n",
        "print(\"GPU available:\", tf.config.list_physical_devices('GPU'))"
      ]
    },
    {
      "cell_type": "code",
      "source": [
        "# Cell 2 — upload ZIP from local PC or mount Google Drive\n",
        "# Option A — upload file from your computer (recommended for one-off)\n",
        "from google.colab import files\n",
        "uploaded = files.upload()   # picks files from your PC\n",
        "zip_path = next(iter(uploaded))   # first uploaded filename\n",
        "print(\"Uploaded:\", zip_path)"
      ],
      "metadata": {
        "colab": {
          "base_uri": "https://localhost:8080/",
          "height": 90
        },
        "id": "PNeG6OdEe2Kf",
        "outputId": "ef847fe6-4ea8-4467-cc86-cd3c14092ba1"
      },
      "execution_count": 13,
      "outputs": [
        {
          "output_type": "display_data",
          "data": {
            "text/plain": [
              "<IPython.core.display.HTML object>"
            ],
            "text/html": [
              "\n",
              "     <input type=\"file\" id=\"files-431d4497-7890-444b-81ac-aa9e7dd6eded\" name=\"files[]\" multiple disabled\n",
              "        style=\"border:none\" />\n",
              "     <output id=\"result-431d4497-7890-444b-81ac-aa9e7dd6eded\">\n",
              "      Upload widget is only available when the cell has been executed in the\n",
              "      current browser session. Please rerun this cell to enable.\n",
              "      </output>\n",
              "      <script>// Copyright 2017 Google LLC\n",
              "//\n",
              "// Licensed under the Apache License, Version 2.0 (the \"License\");\n",
              "// you may not use this file except in compliance with the License.\n",
              "// You may obtain a copy of the License at\n",
              "//\n",
              "//      http://www.apache.org/licenses/LICENSE-2.0\n",
              "//\n",
              "// Unless required by applicable law or agreed to in writing, software\n",
              "// distributed under the License is distributed on an \"AS IS\" BASIS,\n",
              "// WITHOUT WARRANTIES OR CONDITIONS OF ANY KIND, either express or implied.\n",
              "// See the License for the specific language governing permissions and\n",
              "// limitations under the License.\n",
              "\n",
              "/**\n",
              " * @fileoverview Helpers for google.colab Python module.\n",
              " */\n",
              "(function(scope) {\n",
              "function span(text, styleAttributes = {}) {\n",
              "  const element = document.createElement('span');\n",
              "  element.textContent = text;\n",
              "  for (const key of Object.keys(styleAttributes)) {\n",
              "    element.style[key] = styleAttributes[key];\n",
              "  }\n",
              "  return element;\n",
              "}\n",
              "\n",
              "// Max number of bytes which will be uploaded at a time.\n",
              "const MAX_PAYLOAD_SIZE = 100 * 1024;\n",
              "\n",
              "function _uploadFiles(inputId, outputId) {\n",
              "  const steps = uploadFilesStep(inputId, outputId);\n",
              "  const outputElement = document.getElementById(outputId);\n",
              "  // Cache steps on the outputElement to make it available for the next call\n",
              "  // to uploadFilesContinue from Python.\n",
              "  outputElement.steps = steps;\n",
              "\n",
              "  return _uploadFilesContinue(outputId);\n",
              "}\n",
              "\n",
              "// This is roughly an async generator (not supported in the browser yet),\n",
              "// where there are multiple asynchronous steps and the Python side is going\n",
              "// to poll for completion of each step.\n",
              "// This uses a Promise to block the python side on completion of each step,\n",
              "// then passes the result of the previous step as the input to the next step.\n",
              "function _uploadFilesContinue(outputId) {\n",
              "  const outputElement = document.getElementById(outputId);\n",
              "  const steps = outputElement.steps;\n",
              "\n",
              "  const next = steps.next(outputElement.lastPromiseValue);\n",
              "  return Promise.resolve(next.value.promise).then((value) => {\n",
              "    // Cache the last promise value to make it available to the next\n",
              "    // step of the generator.\n",
              "    outputElement.lastPromiseValue = value;\n",
              "    return next.value.response;\n",
              "  });\n",
              "}\n",
              "\n",
              "/**\n",
              " * Generator function which is called between each async step of the upload\n",
              " * process.\n",
              " * @param {string} inputId Element ID of the input file picker element.\n",
              " * @param {string} outputId Element ID of the output display.\n",
              " * @return {!Iterable<!Object>} Iterable of next steps.\n",
              " */\n",
              "function* uploadFilesStep(inputId, outputId) {\n",
              "  const inputElement = document.getElementById(inputId);\n",
              "  inputElement.disabled = false;\n",
              "\n",
              "  const outputElement = document.getElementById(outputId);\n",
              "  outputElement.innerHTML = '';\n",
              "\n",
              "  const pickedPromise = new Promise((resolve) => {\n",
              "    inputElement.addEventListener('change', (e) => {\n",
              "      resolve(e.target.files);\n",
              "    });\n",
              "  });\n",
              "\n",
              "  const cancel = document.createElement('button');\n",
              "  inputElement.parentElement.appendChild(cancel);\n",
              "  cancel.textContent = 'Cancel upload';\n",
              "  const cancelPromise = new Promise((resolve) => {\n",
              "    cancel.onclick = () => {\n",
              "      resolve(null);\n",
              "    };\n",
              "  });\n",
              "\n",
              "  // Wait for the user to pick the files.\n",
              "  const files = yield {\n",
              "    promise: Promise.race([pickedPromise, cancelPromise]),\n",
              "    response: {\n",
              "      action: 'starting',\n",
              "    }\n",
              "  };\n",
              "\n",
              "  cancel.remove();\n",
              "\n",
              "  // Disable the input element since further picks are not allowed.\n",
              "  inputElement.disabled = true;\n",
              "\n",
              "  if (!files) {\n",
              "    return {\n",
              "      response: {\n",
              "        action: 'complete',\n",
              "      }\n",
              "    };\n",
              "  }\n",
              "\n",
              "  for (const file of files) {\n",
              "    const li = document.createElement('li');\n",
              "    li.append(span(file.name, {fontWeight: 'bold'}));\n",
              "    li.append(span(\n",
              "        `(${file.type || 'n/a'}) - ${file.size} bytes, ` +\n",
              "        `last modified: ${\n",
              "            file.lastModifiedDate ? file.lastModifiedDate.toLocaleDateString() :\n",
              "                                    'n/a'} - `));\n",
              "    const percent = span('0% done');\n",
              "    li.appendChild(percent);\n",
              "\n",
              "    outputElement.appendChild(li);\n",
              "\n",
              "    const fileDataPromise = new Promise((resolve) => {\n",
              "      const reader = new FileReader();\n",
              "      reader.onload = (e) => {\n",
              "        resolve(e.target.result);\n",
              "      };\n",
              "      reader.readAsArrayBuffer(file);\n",
              "    });\n",
              "    // Wait for the data to be ready.\n",
              "    let fileData = yield {\n",
              "      promise: fileDataPromise,\n",
              "      response: {\n",
              "        action: 'continue',\n",
              "      }\n",
              "    };\n",
              "\n",
              "    // Use a chunked sending to avoid message size limits. See b/62115660.\n",
              "    let position = 0;\n",
              "    do {\n",
              "      const length = Math.min(fileData.byteLength - position, MAX_PAYLOAD_SIZE);\n",
              "      const chunk = new Uint8Array(fileData, position, length);\n",
              "      position += length;\n",
              "\n",
              "      const base64 = btoa(String.fromCharCode.apply(null, chunk));\n",
              "      yield {\n",
              "        response: {\n",
              "          action: 'append',\n",
              "          file: file.name,\n",
              "          data: base64,\n",
              "        },\n",
              "      };\n",
              "\n",
              "      let percentDone = fileData.byteLength === 0 ?\n",
              "          100 :\n",
              "          Math.round((position / fileData.byteLength) * 100);\n",
              "      percent.textContent = `${percentDone}% done`;\n",
              "\n",
              "    } while (position < fileData.byteLength);\n",
              "  }\n",
              "\n",
              "  // All done.\n",
              "  yield {\n",
              "    response: {\n",
              "      action: 'complete',\n",
              "    }\n",
              "  };\n",
              "}\n",
              "\n",
              "scope.google = scope.google || {};\n",
              "scope.google.colab = scope.google.colab || {};\n",
              "scope.google.colab._files = {\n",
              "  _uploadFiles,\n",
              "  _uploadFilesContinue,\n",
              "};\n",
              "})(self);\n",
              "</script> "
            ]
          },
          "metadata": {}
        },
        {
          "output_type": "stream",
          "name": "stdout",
          "text": [
            "Saving horse-or-human.zip to horse-or-human.zip\n",
            "Uploaded: horse-or-human.zip\n"
          ]
        }
      ]
    },
    {
      "cell_type": "code",
      "source": [
        "import os\n",
        "\n",
        "print(\"Files currently in /content:\")\n",
        "print(os.listdir(\"/content\"))\n"
      ],
      "metadata": {
        "colab": {
          "base_uri": "https://localhost:8080/"
        },
        "id": "sHapP2NvhBwT",
        "outputId": "246b9a9b-4efa-4f1d-80fa-e38fa521a8ff"
      },
      "execution_count": 17,
      "outputs": [
        {
          "output_type": "stream",
          "name": "stdout",
          "text": [
            "Files currently in /content:\n",
            "['.config', 'horse-or-human.zip', '.ipynb_checkpoints', 'horse_or_human.zip', 'sample_data']\n"
          ]
        }
      ]
    },
    {
      "cell_type": "code",
      "source": [
        "# Adjust name if your uploaded file is different (e.g. horse-or-human.zip, horse_human.zip etc.)\n",
        "zip_path = \"/content/horse-or-human.zip\"\n",
        "\n",
        "!rm -rf /content/horse-or-human   # clear any old folder\n",
        "!mkdir /content/horse-or-human\n",
        "!unzip -q \"$zip_path\" -d /content/horse-or-human\n",
        "\n",
        "print(\"After unzip, contents are:\")\n",
        "!ls -R /content/horse-or-human | head -40"
      ],
      "metadata": {
        "colab": {
          "base_uri": "https://localhost:8080/"
        },
        "id": "ZW6jg1uokMlX",
        "outputId": "b2389f74-34a4-4bf6-9f1b-1976d9bd3f5b"
      },
      "execution_count": 18,
      "outputs": [
        {
          "output_type": "stream",
          "name": "stdout",
          "text": [
            "After unzip, contents are:\n",
            "/content/horse-or-human:\n",
            "horses\n",
            "humans\n",
            "\n",
            "/content/horse-or-human/horses:\n",
            "horse01-0.png\n",
            "horse01-1.png\n",
            "horse01-2.png\n",
            "horse01-3.png\n",
            "horse01-4.png\n",
            "horse01-5.png\n",
            "horse01-6.png\n",
            "horse01-7.png\n",
            "horse01-8.png\n",
            "horse01-9.png\n",
            "horse02-0.png\n",
            "horse02-1.png\n",
            "horse02-2.png\n",
            "horse02-3.png\n",
            "horse02-4.png\n",
            "horse02-5.png\n",
            "horse02-6.png\n",
            "horse02-7.png\n",
            "horse02-8.png\n",
            "horse02-9.png\n",
            "horse03-0.png\n",
            "horse03-1.png\n",
            "horse03-2.png\n",
            "horse03-3.png\n",
            "horse03-4.png\n",
            "horse03-5.png\n",
            "horse03-6.png\n",
            "horse03-7.png\n",
            "horse03-8.png\n",
            "horse03-9.png\n",
            "horse04-0.png\n",
            "horse04-1.png\n",
            "horse04-2.png\n",
            "horse04-3.png\n",
            "horse04-4.png\n"
          ]
        }
      ]
    },
    {
      "cell_type": "code",
      "source": [
        "list_top('/content/horse-or-human')"
      ],
      "metadata": {
        "colab": {
          "base_uri": "https://localhost:8080/"
        },
        "id": "jDhP3FjhkjxF",
        "outputId": "c15b9dca-a59e-4552-e306-78316136e103"
      },
      "execution_count": 19,
      "outputs": [
        {
          "output_type": "stream",
          "name": "stdout",
          "text": [
            "Top-level in /content/horse-or-human :\n",
            " ['horses', 'humans']\n",
            "\n",
            "Subfolders (first level):\n",
            "  horses -> 500 files\n",
            "  humans -> 527 files\n"
          ]
        }
      ]
    },
    {
      "cell_type": "code",
      "source": [
        "# Cell 3 — inspect\n",
        "import os\n",
        "\n",
        "def list_top(dirpath):\n",
        "    print(\"Top-level in\", dirpath, \":\\n\", os.listdir(dirpath))\n",
        "    print(\"\\nSubfolders (first level):\")\n",
        "    for name in sorted(os.listdir(dirpath)):\n",
        "        p = os.path.join(dirpath, name)\n",
        "        if os.path.isdir(p):\n",
        "            print(\" \", name, \"->\", len(os.listdir(p)), \"files\")\n",
        "\n",
        "list_top('/content/horse-or-human')"
      ],
      "metadata": {
        "colab": {
          "base_uri": "https://localhost:8080/"
        },
        "id": "qQdjvQvfknrE",
        "outputId": "571e6eee-a161-4a0a-8943-03cdbebfef67"
      },
      "execution_count": 20,
      "outputs": [
        {
          "output_type": "stream",
          "name": "stdout",
          "text": [
            "Top-level in /content/horse-or-human :\n",
            " ['horses', 'humans']\n",
            "\n",
            "Subfolders (first level):\n",
            "  horses -> 500 files\n",
            "  humans -> 527 files\n"
          ]
        }
      ]
    },
    {
      "cell_type": "code",
      "source": [
        "# Cell 4 — auto-organize if images are not already in class subfolders\n",
        "import shutil, re\n",
        "\n",
        "root = '/content/horse-or-human'\n",
        "subfolders = [d for d in os.listdir(root) if os.path.isdir(os.path.join(root,d))]\n",
        "print(\"Detected subfolders:\", subfolders)\n",
        "\n",
        "if not subfolders:\n",
        "    print(\"No class subfolders detected. Attempting to auto-split by filename keywords...\")\n",
        "    horses_dir = os.path.join(root, 'horses')\n",
        "    humans_dir = os.path.join(root, 'humans')\n",
        "    os.makedirs(horses_dir, exist_ok=True)\n",
        "    os.makedirs(humans_dir, exist_ok=True)\n",
        "    moved = 0\n",
        "    for fname in os.listdir(root):\n",
        "        fpath = os.path.join(root, fname)\n",
        "        if os.path.isfile(fpath):\n",
        "            name = fname.lower()\n",
        "            if 'horse' in name:\n",
        "                shutil.move(fpath, os.path.join(horses_dir, fname)); moved += 1\n",
        "            elif 'human' in name or 'person' in name:\n",
        "                shutil.move(fpath, os.path.join(humans_dir, fname)); moved += 1\n",
        "    print(\"Moved\", moved, \"files. New contents:\")\n",
        "    list_top(root)\n",
        "else:\n",
        "    print(\"Looks good — class subfolders present.\")\n"
      ],
      "metadata": {
        "colab": {
          "base_uri": "https://localhost:8080/"
        },
        "id": "oQWhhNKekui-",
        "outputId": "f69fce03-a0dc-4a8b-e84f-3a2412703fff"
      },
      "execution_count": 21,
      "outputs": [
        {
          "output_type": "stream",
          "name": "stdout",
          "text": [
            "Detected subfolders: ['horses', 'humans']\n",
            "Looks good — class subfolders present.\n"
          ]
        }
      ]
    },
    {
      "cell_type": "code",
      "source": [
        "# Cell 5 — data generators\n",
        "from tensorflow.keras.preprocessing.image import ImageDataGenerator\n",
        "\n",
        "IMG_SIZE = (150, 150)   # resize images to this\n",
        "BATCH_SIZE = 32\n",
        "DATA_DIR = '/content/horse-or-human'  # root directory with class subfolders\n",
        "\n",
        "train_datagen = ImageDataGenerator(\n",
        "    rescale=1./255,\n",
        "    rotation_range=20,\n",
        "    width_shift_range=0.1,\n",
        "    height_shift_range=0.1,\n",
        "    shear_range=0.1,\n",
        "    zoom_range=0.1,\n",
        "    horizontal_flip=True,\n",
        "    fill_mode='nearest',\n",
        "    validation_split=0.2  # 20% validation\n",
        ")\n",
        "\n",
        "train_generator = train_datagen.flow_from_directory(\n",
        "    DATA_DIR,\n",
        "    target_size=IMG_SIZE,\n",
        "    batch_size=BATCH_SIZE,\n",
        "    class_mode='binary',\n",
        "    subset='training',\n",
        "    shuffle=True,\n",
        "    seed=42\n",
        ")\n",
        "\n",
        "validation_generator = train_datagen.flow_from_directory(\n",
        "    DATA_DIR,\n",
        "    target_size=IMG_SIZE,\n",
        "    batch_size=BATCH_SIZE,\n",
        "    class_mode='binary',\n",
        "    subset='validation',\n",
        "    shuffle=False,\n",
        "    seed=42\n",
        ")\n"
      ],
      "metadata": {
        "colab": {
          "base_uri": "https://localhost:8080/"
        },
        "id": "nmUv6PxZkyfa",
        "outputId": "6afb3936-4525-48c2-c3fd-2533548b8b62"
      },
      "execution_count": 22,
      "outputs": [
        {
          "output_type": "stream",
          "name": "stdout",
          "text": [
            "Found 822 images belonging to 2 classes.\n",
            "Found 205 images belonging to 2 classes.\n"
          ]
        }
      ]
    },
    {
      "cell_type": "code",
      "source": [
        "# Cell 6 — model\n",
        "import tensorflow as tf\n",
        "from tensorflow.keras import layers, models\n",
        "\n",
        "model = models.Sequential([\n",
        "    layers.Conv2D(16, (3,3), activation='relu', input_shape=IMG_SIZE + (3,)),\n",
        "    layers.MaxPooling2D(2,2),\n",
        "\n",
        "    layers.Conv2D(32, (3,3), activation='relu'),\n",
        "    layers.MaxPooling2D(2,2),\n",
        "\n",
        "    layers.Conv2D(64, (3,3), activation='relu'),\n",
        "    layers.MaxPooling2D(2,2),\n",
        "\n",
        "    layers.Flatten(),\n",
        "    layers.Dropout(0.5),\n",
        "    layers.Dense(512, activation='relu'),\n",
        "    layers.Dense(1, activation='sigmoid')   # binary classification\n",
        "])\n",
        "\n",
        "model.compile(\n",
        "    optimizer=tf.keras.optimizers.RMSprop(learning_rate=1e-4),\n",
        "    loss='binary_crossentropy',\n",
        "    metrics=['accuracy']\n",
        ")\n",
        "\n",
        "model.summary()\n"
      ],
      "metadata": {
        "colab": {
          "base_uri": "https://localhost:8080/",
          "height": 504
        },
        "id": "HhwKk2rmk84i",
        "outputId": "9c3b60d7-ba36-4842-9098-731f06c34c8a"
      },
      "execution_count": 23,
      "outputs": [
        {
          "output_type": "stream",
          "name": "stderr",
          "text": [
            "/usr/local/lib/python3.12/dist-packages/keras/src/layers/convolutional/base_conv.py:113: UserWarning: Do not pass an `input_shape`/`input_dim` argument to a layer. When using Sequential models, prefer using an `Input(shape)` object as the first layer in the model instead.\n",
            "  super().__init__(activity_regularizer=activity_regularizer, **kwargs)\n"
          ]
        },
        {
          "output_type": "display_data",
          "data": {
            "text/plain": [
              "\u001b[1mModel: \"sequential\"\u001b[0m\n"
            ],
            "text/html": [
              "<pre style=\"white-space:pre;overflow-x:auto;line-height:normal;font-family:Menlo,'DejaVu Sans Mono',consolas,'Courier New',monospace\"><span style=\"font-weight: bold\">Model: \"sequential\"</span>\n",
              "</pre>\n"
            ]
          },
          "metadata": {}
        },
        {
          "output_type": "display_data",
          "data": {
            "text/plain": [
              "┏━━━━━━━━━━━━━━━━━━━━━━━━━━━━━━━━━┳━━━━━━━━━━━━━━━━━━━━━━━━┳━━━━━━━━━━━━━━━┓\n",
              "┃\u001b[1m \u001b[0m\u001b[1mLayer (type)                   \u001b[0m\u001b[1m \u001b[0m┃\u001b[1m \u001b[0m\u001b[1mOutput Shape          \u001b[0m\u001b[1m \u001b[0m┃\u001b[1m \u001b[0m\u001b[1m      Param #\u001b[0m\u001b[1m \u001b[0m┃\n",
              "┡━━━━━━━━━━━━━━━━━━━━━━━━━━━━━━━━━╇━━━━━━━━━━━━━━━━━━━━━━━━╇━━━━━━━━━━━━━━━┩\n",
              "│ conv2d (\u001b[38;5;33mConv2D\u001b[0m)                 │ (\u001b[38;5;45mNone\u001b[0m, \u001b[38;5;34m148\u001b[0m, \u001b[38;5;34m148\u001b[0m, \u001b[38;5;34m16\u001b[0m)   │           \u001b[38;5;34m448\u001b[0m │\n",
              "├─────────────────────────────────┼────────────────────────┼───────────────┤\n",
              "│ max_pooling2d (\u001b[38;5;33mMaxPooling2D\u001b[0m)    │ (\u001b[38;5;45mNone\u001b[0m, \u001b[38;5;34m74\u001b[0m, \u001b[38;5;34m74\u001b[0m, \u001b[38;5;34m16\u001b[0m)     │             \u001b[38;5;34m0\u001b[0m │\n",
              "├─────────────────────────────────┼────────────────────────┼───────────────┤\n",
              "│ conv2d_1 (\u001b[38;5;33mConv2D\u001b[0m)               │ (\u001b[38;5;45mNone\u001b[0m, \u001b[38;5;34m72\u001b[0m, \u001b[38;5;34m72\u001b[0m, \u001b[38;5;34m32\u001b[0m)     │         \u001b[38;5;34m4,640\u001b[0m │\n",
              "├─────────────────────────────────┼────────────────────────┼───────────────┤\n",
              "│ max_pooling2d_1 (\u001b[38;5;33mMaxPooling2D\u001b[0m)  │ (\u001b[38;5;45mNone\u001b[0m, \u001b[38;5;34m36\u001b[0m, \u001b[38;5;34m36\u001b[0m, \u001b[38;5;34m32\u001b[0m)     │             \u001b[38;5;34m0\u001b[0m │\n",
              "├─────────────────────────────────┼────────────────────────┼───────────────┤\n",
              "│ conv2d_2 (\u001b[38;5;33mConv2D\u001b[0m)               │ (\u001b[38;5;45mNone\u001b[0m, \u001b[38;5;34m34\u001b[0m, \u001b[38;5;34m34\u001b[0m, \u001b[38;5;34m64\u001b[0m)     │        \u001b[38;5;34m18,496\u001b[0m │\n",
              "├─────────────────────────────────┼────────────────────────┼───────────────┤\n",
              "│ max_pooling2d_2 (\u001b[38;5;33mMaxPooling2D\u001b[0m)  │ (\u001b[38;5;45mNone\u001b[0m, \u001b[38;5;34m17\u001b[0m, \u001b[38;5;34m17\u001b[0m, \u001b[38;5;34m64\u001b[0m)     │             \u001b[38;5;34m0\u001b[0m │\n",
              "├─────────────────────────────────┼────────────────────────┼───────────────┤\n",
              "│ flatten (\u001b[38;5;33mFlatten\u001b[0m)               │ (\u001b[38;5;45mNone\u001b[0m, \u001b[38;5;34m18496\u001b[0m)          │             \u001b[38;5;34m0\u001b[0m │\n",
              "├─────────────────────────────────┼────────────────────────┼───────────────┤\n",
              "│ dropout (\u001b[38;5;33mDropout\u001b[0m)               │ (\u001b[38;5;45mNone\u001b[0m, \u001b[38;5;34m18496\u001b[0m)          │             \u001b[38;5;34m0\u001b[0m │\n",
              "├─────────────────────────────────┼────────────────────────┼───────────────┤\n",
              "│ dense (\u001b[38;5;33mDense\u001b[0m)                   │ (\u001b[38;5;45mNone\u001b[0m, \u001b[38;5;34m512\u001b[0m)            │     \u001b[38;5;34m9,470,464\u001b[0m │\n",
              "├─────────────────────────────────┼────────────────────────┼───────────────┤\n",
              "│ dense_1 (\u001b[38;5;33mDense\u001b[0m)                 │ (\u001b[38;5;45mNone\u001b[0m, \u001b[38;5;34m1\u001b[0m)              │           \u001b[38;5;34m513\u001b[0m │\n",
              "└─────────────────────────────────┴────────────────────────┴───────────────┘\n"
            ],
            "text/html": [
              "<pre style=\"white-space:pre;overflow-x:auto;line-height:normal;font-family:Menlo,'DejaVu Sans Mono',consolas,'Courier New',monospace\">┏━━━━━━━━━━━━━━━━━━━━━━━━━━━━━━━━━┳━━━━━━━━━━━━━━━━━━━━━━━━┳━━━━━━━━━━━━━━━┓\n",
              "┃<span style=\"font-weight: bold\"> Layer (type)                    </span>┃<span style=\"font-weight: bold\"> Output Shape           </span>┃<span style=\"font-weight: bold\">       Param # </span>┃\n",
              "┡━━━━━━━━━━━━━━━━━━━━━━━━━━━━━━━━━╇━━━━━━━━━━━━━━━━━━━━━━━━╇━━━━━━━━━━━━━━━┩\n",
              "│ conv2d (<span style=\"color: #0087ff; text-decoration-color: #0087ff\">Conv2D</span>)                 │ (<span style=\"color: #00d7ff; text-decoration-color: #00d7ff\">None</span>, <span style=\"color: #00af00; text-decoration-color: #00af00\">148</span>, <span style=\"color: #00af00; text-decoration-color: #00af00\">148</span>, <span style=\"color: #00af00; text-decoration-color: #00af00\">16</span>)   │           <span style=\"color: #00af00; text-decoration-color: #00af00\">448</span> │\n",
              "├─────────────────────────────────┼────────────────────────┼───────────────┤\n",
              "│ max_pooling2d (<span style=\"color: #0087ff; text-decoration-color: #0087ff\">MaxPooling2D</span>)    │ (<span style=\"color: #00d7ff; text-decoration-color: #00d7ff\">None</span>, <span style=\"color: #00af00; text-decoration-color: #00af00\">74</span>, <span style=\"color: #00af00; text-decoration-color: #00af00\">74</span>, <span style=\"color: #00af00; text-decoration-color: #00af00\">16</span>)     │             <span style=\"color: #00af00; text-decoration-color: #00af00\">0</span> │\n",
              "├─────────────────────────────────┼────────────────────────┼───────────────┤\n",
              "│ conv2d_1 (<span style=\"color: #0087ff; text-decoration-color: #0087ff\">Conv2D</span>)               │ (<span style=\"color: #00d7ff; text-decoration-color: #00d7ff\">None</span>, <span style=\"color: #00af00; text-decoration-color: #00af00\">72</span>, <span style=\"color: #00af00; text-decoration-color: #00af00\">72</span>, <span style=\"color: #00af00; text-decoration-color: #00af00\">32</span>)     │         <span style=\"color: #00af00; text-decoration-color: #00af00\">4,640</span> │\n",
              "├─────────────────────────────────┼────────────────────────┼───────────────┤\n",
              "│ max_pooling2d_1 (<span style=\"color: #0087ff; text-decoration-color: #0087ff\">MaxPooling2D</span>)  │ (<span style=\"color: #00d7ff; text-decoration-color: #00d7ff\">None</span>, <span style=\"color: #00af00; text-decoration-color: #00af00\">36</span>, <span style=\"color: #00af00; text-decoration-color: #00af00\">36</span>, <span style=\"color: #00af00; text-decoration-color: #00af00\">32</span>)     │             <span style=\"color: #00af00; text-decoration-color: #00af00\">0</span> │\n",
              "├─────────────────────────────────┼────────────────────────┼───────────────┤\n",
              "│ conv2d_2 (<span style=\"color: #0087ff; text-decoration-color: #0087ff\">Conv2D</span>)               │ (<span style=\"color: #00d7ff; text-decoration-color: #00d7ff\">None</span>, <span style=\"color: #00af00; text-decoration-color: #00af00\">34</span>, <span style=\"color: #00af00; text-decoration-color: #00af00\">34</span>, <span style=\"color: #00af00; text-decoration-color: #00af00\">64</span>)     │        <span style=\"color: #00af00; text-decoration-color: #00af00\">18,496</span> │\n",
              "├─────────────────────────────────┼────────────────────────┼───────────────┤\n",
              "│ max_pooling2d_2 (<span style=\"color: #0087ff; text-decoration-color: #0087ff\">MaxPooling2D</span>)  │ (<span style=\"color: #00d7ff; text-decoration-color: #00d7ff\">None</span>, <span style=\"color: #00af00; text-decoration-color: #00af00\">17</span>, <span style=\"color: #00af00; text-decoration-color: #00af00\">17</span>, <span style=\"color: #00af00; text-decoration-color: #00af00\">64</span>)     │             <span style=\"color: #00af00; text-decoration-color: #00af00\">0</span> │\n",
              "├─────────────────────────────────┼────────────────────────┼───────────────┤\n",
              "│ flatten (<span style=\"color: #0087ff; text-decoration-color: #0087ff\">Flatten</span>)               │ (<span style=\"color: #00d7ff; text-decoration-color: #00d7ff\">None</span>, <span style=\"color: #00af00; text-decoration-color: #00af00\">18496</span>)          │             <span style=\"color: #00af00; text-decoration-color: #00af00\">0</span> │\n",
              "├─────────────────────────────────┼────────────────────────┼───────────────┤\n",
              "│ dropout (<span style=\"color: #0087ff; text-decoration-color: #0087ff\">Dropout</span>)               │ (<span style=\"color: #00d7ff; text-decoration-color: #00d7ff\">None</span>, <span style=\"color: #00af00; text-decoration-color: #00af00\">18496</span>)          │             <span style=\"color: #00af00; text-decoration-color: #00af00\">0</span> │\n",
              "├─────────────────────────────────┼────────────────────────┼───────────────┤\n",
              "│ dense (<span style=\"color: #0087ff; text-decoration-color: #0087ff\">Dense</span>)                   │ (<span style=\"color: #00d7ff; text-decoration-color: #00d7ff\">None</span>, <span style=\"color: #00af00; text-decoration-color: #00af00\">512</span>)            │     <span style=\"color: #00af00; text-decoration-color: #00af00\">9,470,464</span> │\n",
              "├─────────────────────────────────┼────────────────────────┼───────────────┤\n",
              "│ dense_1 (<span style=\"color: #0087ff; text-decoration-color: #0087ff\">Dense</span>)                 │ (<span style=\"color: #00d7ff; text-decoration-color: #00d7ff\">None</span>, <span style=\"color: #00af00; text-decoration-color: #00af00\">1</span>)              │           <span style=\"color: #00af00; text-decoration-color: #00af00\">513</span> │\n",
              "└─────────────────────────────────┴────────────────────────┴───────────────┘\n",
              "</pre>\n"
            ]
          },
          "metadata": {}
        },
        {
          "output_type": "display_data",
          "data": {
            "text/plain": [
              "\u001b[1m Total params: \u001b[0m\u001b[38;5;34m9,494,561\u001b[0m (36.22 MB)\n"
            ],
            "text/html": [
              "<pre style=\"white-space:pre;overflow-x:auto;line-height:normal;font-family:Menlo,'DejaVu Sans Mono',consolas,'Courier New',monospace\"><span style=\"font-weight: bold\"> Total params: </span><span style=\"color: #00af00; text-decoration-color: #00af00\">9,494,561</span> (36.22 MB)\n",
              "</pre>\n"
            ]
          },
          "metadata": {}
        },
        {
          "output_type": "display_data",
          "data": {
            "text/plain": [
              "\u001b[1m Trainable params: \u001b[0m\u001b[38;5;34m9,494,561\u001b[0m (36.22 MB)\n"
            ],
            "text/html": [
              "<pre style=\"white-space:pre;overflow-x:auto;line-height:normal;font-family:Menlo,'DejaVu Sans Mono',consolas,'Courier New',monospace\"><span style=\"font-weight: bold\"> Trainable params: </span><span style=\"color: #00af00; text-decoration-color: #00af00\">9,494,561</span> (36.22 MB)\n",
              "</pre>\n"
            ]
          },
          "metadata": {}
        },
        {
          "output_type": "display_data",
          "data": {
            "text/plain": [
              "\u001b[1m Non-trainable params: \u001b[0m\u001b[38;5;34m0\u001b[0m (0.00 B)\n"
            ],
            "text/html": [
              "<pre style=\"white-space:pre;overflow-x:auto;line-height:normal;font-family:Menlo,'DejaVu Sans Mono',consolas,'Courier New',monospace\"><span style=\"font-weight: bold\"> Non-trainable params: </span><span style=\"color: #00af00; text-decoration-color: #00af00\">0</span> (0.00 B)\n",
              "</pre>\n"
            ]
          },
          "metadata": {}
        }
      ]
    },
    {
      "cell_type": "code",
      "source": [
        "# Cell 7 — callbacks\n",
        "from tensorflow.keras.callbacks import EarlyStopping, ModelCheckpoint\n",
        "\n",
        "checkpoint_path = \"/content/best_horse_human_model.h5\"\n",
        "callbacks = [\n",
        "    EarlyStopping(monitor='val_loss', patience=5, restore_best_weights=True),\n",
        "    ModelCheckpoint(checkpoint_path, monitor='val_loss', save_best_only=True)\n",
        "]\n",
        "\n",
        "print(\"Checkpoint path:\", checkpoint_path)\n"
      ],
      "metadata": {
        "colab": {
          "base_uri": "https://localhost:8080/"
        },
        "id": "HTcpxcrjlAVX",
        "outputId": "27cd7311-639f-4078-b029-aeb0fcee5bad"
      },
      "execution_count": 24,
      "outputs": [
        {
          "output_type": "stream",
          "name": "stdout",
          "text": [
            "Checkpoint path: /content/best_horse_human_model.h5\n"
          ]
        }
      ]
    },
    {
      "cell_type": "code",
      "source": [
        "# Cell 8 — training\n",
        "EPOCHS = 5  # tweak as needed\n",
        "history = model.fit(\n",
        "    train_generator,\n",
        "    epochs=EPOCHS,\n",
        "    validation_data=validation_generator,\n",
        "    callbacks=callbacks\n",
        ")\n"
      ],
      "metadata": {
        "colab": {
          "base_uri": "https://localhost:8080/"
        },
        "id": "jnDGfVRBlHHo",
        "outputId": "6b2e88a6-adb0-4f7c-a202-59add10a5840"
      },
      "execution_count": 25,
      "outputs": [
        {
          "output_type": "stream",
          "name": "stderr",
          "text": [
            "/usr/local/lib/python3.12/dist-packages/keras/src/trainers/data_adapters/py_dataset_adapter.py:121: UserWarning: Your `PyDataset` class should call `super().__init__(**kwargs)` in its constructor. `**kwargs` can include `workers`, `use_multiprocessing`, `max_queue_size`. Do not pass these arguments to `fit()`, as they will be ignored.\n",
            "  self._warn_if_super_not_called()\n"
          ]
        },
        {
          "output_type": "stream",
          "name": "stdout",
          "text": [
            "Epoch 1/5\n",
            "\u001b[1m26/26\u001b[0m \u001b[32m━━━━━━━━━━━━━━━━━━━━\u001b[0m\u001b[37m\u001b[0m \u001b[1m0s\u001b[0m 402ms/step - accuracy: 0.6467 - loss: 0.6743"
          ]
        },
        {
          "output_type": "stream",
          "name": "stderr",
          "text": [
            "WARNING:absl:You are saving your model as an HDF5 file via `model.save()` or `keras.saving.save_model(model)`. This file format is considered legacy. We recommend using instead the native Keras format, e.g. `model.save('my_model.keras')` or `keras.saving.save_model(model, 'my_model.keras')`. \n"
          ]
        },
        {
          "output_type": "stream",
          "name": "stdout",
          "text": [
            "\b\b\b\b\b\b\b\b\b\b\b\b\b\b\b\b\b\b\b\b\b\b\b\b\b\b\b\b\b\b\b\b\b\b\b\b\b\b\b\b\b\b\b\b\b\b\b\b\b\b\b\b\b\b\b\b\b\b\b\b\b\b\b\b\b\b\b\b\b\b\b\b\b\b\r\u001b[1m26/26\u001b[0m \u001b[32m━━━━━━━━━━━━━━━━━━━━\u001b[0m\u001b[37m\u001b[0m \u001b[1m20s\u001b[0m 554ms/step - accuracy: 0.6461 - loss: 0.6737 - val_accuracy: 0.5122 - val_loss: 0.7879\n",
            "Epoch 2/5\n",
            "\u001b[1m26/26\u001b[0m \u001b[32m━━━━━━━━━━━━━━━━━━━━\u001b[0m\u001b[37m\u001b[0m \u001b[1m0s\u001b[0m 314ms/step - accuracy: 0.6899 - loss: 0.5903"
          ]
        },
        {
          "output_type": "stream",
          "name": "stderr",
          "text": [
            "WARNING:absl:You are saving your model as an HDF5 file via `model.save()` or `keras.saving.save_model(model)`. This file format is considered legacy. We recommend using instead the native Keras format, e.g. `model.save('my_model.keras')` or `keras.saving.save_model(model, 'my_model.keras')`. \n"
          ]
        },
        {
          "output_type": "stream",
          "name": "stdout",
          "text": [
            "\b\b\b\b\b\b\b\b\b\b\b\b\b\b\b\b\b\b\b\b\b\b\b\b\b\b\b\b\b\b\b\b\b\b\b\b\b\b\b\b\b\b\b\b\b\b\b\b\b\b\b\b\b\b\b\b\b\b\b\b\b\b\b\b\b\b\b\b\b\b\b\b\b\b\r\u001b[1m26/26\u001b[0m \u001b[32m━━━━━━━━━━━━━━━━━━━━\u001b[0m\u001b[37m\u001b[0m \u001b[1m10s\u001b[0m 399ms/step - accuracy: 0.6909 - loss: 0.5895 - val_accuracy: 0.5756 - val_loss: 0.5413\n",
            "Epoch 3/5\n",
            "\u001b[1m26/26\u001b[0m \u001b[32m━━━━━━━━━━━━━━━━━━━━\u001b[0m\u001b[37m\u001b[0m \u001b[1m0s\u001b[0m 317ms/step - accuracy: 0.7970 - loss: 0.4594"
          ]
        },
        {
          "output_type": "stream",
          "name": "stderr",
          "text": [
            "WARNING:absl:You are saving your model as an HDF5 file via `model.save()` or `keras.saving.save_model(model)`. This file format is considered legacy. We recommend using instead the native Keras format, e.g. `model.save('my_model.keras')` or `keras.saving.save_model(model, 'my_model.keras')`. \n"
          ]
        },
        {
          "output_type": "stream",
          "name": "stdout",
          "text": [
            "\b\b\b\b\b\b\b\b\b\b\b\b\b\b\b\b\b\b\b\b\b\b\b\b\b\b\b\b\b\b\b\b\b\b\b\b\b\b\b\b\b\b\b\b\b\b\b\b\b\b\b\b\b\b\b\b\b\b\b\b\b\b\b\b\b\b\b\b\b\b\b\b\b\b\r\u001b[1m26/26\u001b[0m \u001b[32m━━━━━━━━━━━━━━━━━━━━\u001b[0m\u001b[37m\u001b[0m \u001b[1m10s\u001b[0m 400ms/step - accuracy: 0.7968 - loss: 0.4594 - val_accuracy: 0.9171 - val_loss: 0.3811\n",
            "Epoch 4/5\n",
            "\u001b[1m26/26\u001b[0m \u001b[32m━━━━━━━━━━━━━━━━━━━━\u001b[0m\u001b[37m\u001b[0m \u001b[1m0s\u001b[0m 283ms/step - accuracy: 0.8162 - loss: 0.4203"
          ]
        },
        {
          "output_type": "stream",
          "name": "stderr",
          "text": [
            "WARNING:absl:You are saving your model as an HDF5 file via `model.save()` or `keras.saving.save_model(model)`. This file format is considered legacy. We recommend using instead the native Keras format, e.g. `model.save('my_model.keras')` or `keras.saving.save_model(model, 'my_model.keras')`. \n"
          ]
        },
        {
          "output_type": "stream",
          "name": "stdout",
          "text": [
            "\b\b\b\b\b\b\b\b\b\b\b\b\b\b\b\b\b\b\b\b\b\b\b\b\b\b\b\b\b\b\b\b\b\b\b\b\b\b\b\b\b\b\b\b\b\b\b\b\b\b\b\b\b\b\b\b\b\b\b\b\b\b\b\b\b\b\b\b\b\b\b\b\b\b\r\u001b[1m26/26\u001b[0m \u001b[32m━━━━━━━━━━━━━━━━━━━━\u001b[0m\u001b[37m\u001b[0m \u001b[1m10s\u001b[0m 399ms/step - accuracy: 0.8170 - loss: 0.4193 - val_accuracy: 0.9512 - val_loss: 0.3066\n",
            "Epoch 5/5\n",
            "\u001b[1m26/26\u001b[0m \u001b[32m━━━━━━━━━━━━━━━━━━━━\u001b[0m\u001b[37m\u001b[0m \u001b[1m10s\u001b[0m 386ms/step - accuracy: 0.8528 - loss: 0.3383 - val_accuracy: 0.8293 - val_loss: 0.3249\n"
          ]
        }
      ]
    },
    {
      "cell_type": "code",
      "source": [
        "# Cell 9 — plot\n",
        "import matplotlib.pyplot as plt\n",
        "\n",
        "acc = history.history.get('accuracy', history.history.get('acc'))\n",
        "val_acc = history.history.get('val_accuracy', history.history.get('val_acc'))\n",
        "loss = history.history['loss']\n",
        "val_loss = history.history['val_loss']\n",
        "\n",
        "epochs_range = range(1, len(loss)+1)\n",
        "\n",
        "plt.figure(figsize=(12,4))\n",
        "plt.subplot(1,2,1)\n",
        "plt.plot(epochs_range, loss, label='train_loss')\n",
        "plt.plot(epochs_range, val_loss, label='val_loss')\n",
        "plt.legend()\n",
        "plt.title('Loss')\n",
        "\n",
        "plt.subplot(1,2,2)\n",
        "plt.plot(epochs_range, acc, label='train_acc')\n",
        "plt.plot(epochs_range, val_acc, label='val_acc')\n",
        "plt.legend()\n",
        "plt.title('Accuracy')\n",
        "plt.show()\n"
      ],
      "metadata": {
        "colab": {
          "base_uri": "https://localhost:8080/",
          "height": 391
        },
        "id": "wJN-jHUqlM3V",
        "outputId": "f2ce2ddd-7656-4998-ba93-48dc620c481f"
      },
      "execution_count": 26,
      "outputs": [
        {
          "output_type": "display_data",
          "data": {
            "text/plain": [
              "<Figure size 1200x400 with 2 Axes>"
            ],
            "image/png": "[encoded data removed]"
          },
          "metadata": {}
        }
      ]
    },
    {
      "cell_type": "code",
      "source": [
        "# Cell 10 — load best model and evaluate on validation set\n",
        "from tensorflow.keras.models import load_model\n",
        "best = load_model(checkpoint_path)\n",
        "val_loss, val_acc = best.evaluate(validation_generator, verbose=1)\n",
        "print(\"Best model validation — loss:\", val_loss, \"acc:\", val_acc)\n"
      ],
      "metadata": {
        "colab": {
          "base_uri": "https://localhost:8080/"
        },
        "id": "SoyxOXfQl1Vv",
        "outputId": "5fd74649-cb1e-46dd-cd69-82ea524e83b3"
      },
      "execution_count": 27,
      "outputs": [
        {
          "output_type": "stream",
          "name": "stderr",
          "text": [
            "WARNING:absl:Compiled the loaded model, but the compiled metrics have yet to be built. `model.compile_metrics` will be empty until you train or evaluate the model.\n"
          ]
        },
        {
          "output_type": "stream",
          "name": "stdout",
          "text": [
            "\u001b[1m7/7\u001b[0m \u001b[32m━━━━━━━━━━━━━━━━━━━━\u001b[0m\u001b[37m\u001b[0m \u001b[1m3s\u001b[0m 261ms/step - accuracy: 0.8791 - loss: 0.3301\n",
            "Best model validation — loss: 0.30946093797683716 acc: 0.9219512343406677\n"
          ]
        }
      ]
    },
    {
      "cell_type": "code",
      "source": [
        "# Cell 11 — predict on a single image\n",
        "import numpy as np\n",
        "from tensorflow.keras.preprocessing import image\n",
        "import glob\n",
        "\n",
        "# pick any image from validation folder for demo:\n",
        "val_class_dirs = list(validation_generator.class_indices.keys())\n",
        "print(\"Classes:\", val_class_dirs)\n",
        "sample_paths = glob.glob(os.path.join(DATA_DIR, val_class_dirs[0], '*'))\n",
        "if not sample_paths:\n",
        "    sample_paths = glob.glob(os.path.join(DATA_DIR, val_class_dirs[1], '*'))\n",
        "sample_img = sample_paths[0]\n",
        "print(\"Sample image:\", sample_img)\n",
        "\n",
        "img = image.load_img(sample_img, target_size=IMG_SIZE)\n",
        "x = image.img_to_array(img) / 255.0\n",
        "x = np.expand_dims(x, axis=0)\n",
        "pred = best.predict(x)[0][0]\n",
        "print(\"Pred raw:\", pred)\n",
        "print(\"Pred class:\", (\"human\" if pred>=0.5 else \"horse\"), \" (>=0.5 => human)\")\n"
      ],
      "metadata": {
        "colab": {
          "base_uri": "https://localhost:8080/"
        },
        "id": "dEzHGxvEl36r",
        "outputId": "cff889a7-a5e0-43c3-8587-7e10b1411b70"
      },
      "execution_count": 28,
      "outputs": [
        {
          "output_type": "stream",
          "name": "stdout",
          "text": [
            "Classes: ['horses', 'humans']\n",
            "Sample image: /content/horse-or-human/horses/horse08-9.png\n",
            "\u001b[1m1/1\u001b[0m \u001b[32m━━━━━━━━━━━━━━━━━━━━\u001b[0m\u001b[37m\u001b[0m \u001b[1m1s\u001b[0m 768ms/step\n",
            "Pred raw: 0.26886776\n",
            "Pred class: horse  (>=0.5 => human)\n"
          ]
        }
      ]
    },
    {
      "cell_type": "code",
      "source": [
        "import ipywidgets as widgets\n",
        "from IPython.display import display\n",
        "import numpy as np\n",
        "import tensorflow as tf\n",
        "\n",
        "# Reuse the trained model (adjust if your model variable is different)\n",
        "# If you loaded it with load_model, use: model = best\n",
        "\n",
        "# Same rescaling as training (1./255)\n",
        "rescale_layer = tf.keras.layers.Rescaling(1./255)\n",
        "\n",
        "# Create upload widget\n",
        "uploader = widgets.FileUpload(accept=\"image/*\", multiple=True)\n",
        "display(uploader)\n",
        "\n",
        "# Output widget for predictions\n",
        "out = widgets.Output()\n",
        "display(out)\n",
        "\n",
        "def file_predict(filename, file, out):\n",
        "    \"\"\"Create prediction for uploaded image and print result.\"\"\"\n",
        "    # Load and preprocess\n",
        "    image = tf.keras.utils.load_img(file, target_size=(150, 150))  # match your IMG_SIZE\n",
        "    image = tf.keras.utils.img_to_array(image)\n",
        "    image = rescale_layer(image)\n",
        "    image = np.expand_dims(image, axis=0)\n",
        "\n",
        "    # Predict\n",
        "    prediction = model.predict(image, verbose=0)[0][0]\n",
        "\n",
        "    with out:\n",
        "        if prediction > 0.5:\n",
        "            print(f\"{filename} → Human ({prediction:.3f})\")\n",
        "        else:\n",
        "            print(f\"{filename} → Horse ({prediction:.3f})\")\n",
        "\n",
        "def on_upload_change(change):\n",
        "    \"\"\"Handle uploaded file(s) and run prediction.\"\"\"\n",
        "    out.clear_output()\n",
        "    for filename, file_info in uploader.value.items():\n",
        "        file_bytes = file_info['content']\n",
        "        # Save temp file\n",
        "        tmp_path = \"/content/\" + filename\n",
        "        with open(tmp_path, \"wb\") as f:\n",
        "            f.write(file_bytes)\n",
        "        # Predict\n",
        "        file_predict(filename, tmp_path, out)\n",
        "\n",
        "# Connect the callback\n",
        "uploader.observe(on_upload_change, names=\"value\")\n"
      ],
      "metadata": {
        "colab": {
          "base_uri": "https://localhost:8080/",
          "height": 66,
          "referenced_widgets": [
            "2c81eaa056ff49868a41fb420176f96b",
            "a66895b6161547c5b61128e2132d780d",
            "eca64f95945b41ce90d8b3eb3fc4d957",
            "7a995f556a314cd7870a773391951ddc",
            "f8eaca831bae47a9b2383f9f71f2cc66"
          ]
        },
        "id": "Lk0KUBWTl9u2",
        "outputId": "68dc3ed6-dfda-417b-964e-359d26629881"
      },
      "execution_count": 32,
      "outputs": [
        {
          "output_type": "display_data",
          "data": {
            "text/plain": [
              "FileUpload(value={}, accept='image/*', description='Upload', multiple=True)"
            ],
            "application/vnd.jupyter.widget-view+json": {
              "version_major": 2,
              "version_minor": 0,
              "model_id": "2c81eaa056ff49868a41fb420176f96b"
            }
          },
          "metadata": {}
        },
        {
          "output_type": "display_data",
          "data": {
            "text/plain": [
              "Output()"
            ],
            "application/vnd.jupyter.widget-view+json": {
              "version_major": 2,
              "version_minor": 0,
              "model_id": "7a995f556a314cd7870a773391951ddc"
            }
          },
          "metadata": {}
        }
      ]
    },
    {
      "cell_type": "code",
      "source": [
        "import ipywidgets as widgets\n",
        "from IPython.display import display\n",
        "import matplotlib.pyplot as plt\n",
        "import numpy as np\n",
        "import tensorflow as tf\n",
        "\n",
        "# If you trained with a variable \"best\", reassign: model = best\n",
        "# Otherwise ensure \"model\" is your trained model\n",
        "\n",
        "# Same rescaling as training (1./255)\n",
        "rescale_layer = tf.keras.layers.Rescaling(1./255)\n",
        "\n",
        "# Create upload widget\n",
        "uploader = widgets.FileUpload(accept=\"image/*\", multiple=True)\n",
        "display(uploader)\n",
        "\n",
        "# Output widget for predictions\n",
        "out = widgets.Output()\n",
        "display(out)\n",
        "\n",
        "def file_predict(filename, file, out):\n",
        "    \"\"\"Create prediction for uploaded image, show image + result.\"\"\"\n",
        "    # Load and preprocess\n",
        "    image = tf.keras.utils.load_img(file, target_size=(150, 150))  # match your IMG_SIZE\n",
        "    image_arr = tf.keras.utils.img_to_array(image)\n",
        "    image_arr = rescale_layer(image_arr)\n",
        "    image_arr = np.expand_dims(image_arr, axis=0)\n",
        "\n",
        "    # Predict\n",
        "    prediction = model.predict(image_arr, verbose=0)[0][0]\n",
        "    label = \"Human\" if prediction > 0.5 else \"Horse\"\n",
        "\n",
        "    with out:\n",
        "        # Show image\n",
        "        plt.imshow(tf.keras.utils.load_img(file))\n",
        "        plt.axis(\"off\")\n",
        "        plt.title(f\"{filename} → {label} ({prediction:.3f})\")\n",
        "        plt.show()\n",
        "\n",
        "def on_upload_change(change):\n",
        "    \"\"\"Handle uploaded file(s) and run prediction.\"\"\"\n",
        "    out.clear_output()\n",
        "    for filename, file_info in uploader.value.items():\n",
        "        file_bytes = file_info['content']\n",
        "        # Save temp file\n",
        "        tmp_path = \"/content/\" + filename\n",
        "        with open(tmp_path, \"wb\") as f:\n",
        "            f.write(file_bytes)\n",
        "        # Predict and display\n",
        "        file_predict(filename, tmp_path, out)\n",
        "\n",
        "# Connect the callback\n",
        "uploader.observe(on_upload_change, names=\"value\")\n"
      ],
      "metadata": {
        "colab": {
          "base_uri": "https://localhost:8080/",
          "height": 460,
          "referenced_widgets": [
            "379e0c4d6a3445429b68216442aa8f38",
            "eb61f0c1a5084656b51dcd13d690b9d2",
            "eb62a3a551e045ba8e9bc45dfed5171a",
            "09104895de4d405087d91b15a9f8e394",
            "c9499a89014242559d4feddffe980af9"
          ]
        },
        "id": "RZ6C-7SYmD8Z",
        "outputId": "91cd4fe4-9b78-4982-df8e-e36a39140efb"
      },
      "execution_count": 33,
      "outputs": [
        {
          "output_type": "display_data",
          "data": {
            "text/plain": [
              "FileUpload(value={}, accept='image/*', description='Upload', multiple=True)"
            ],
            "application/vnd.jupyter.widget-view+json": {
              "version_major": 2,
              "version_minor": 0,
              "model_id": "379e0c4d6a3445429b68216442aa8f38"
            }
          },
          "metadata": {}
        },
        {
          "output_type": "display_data",
          "data": {
            "text/plain": [
              "Output()"
            ],
            "application/vnd.jupyter.widget-view+json": {
              "version_major": 2,
              "version_minor": 0,
              "model_id": "09104895de4d405087d91b15a9f8e394"
            }
          },
          "metadata": {}
        }
      ]
    },
    {
      "cell_type": "code",
      "source": [],
      "metadata": {
        "id": "2W9H6WtfnKAu"
      },
      "execution_count": null,
      "outputs": []
    }
  ]
}